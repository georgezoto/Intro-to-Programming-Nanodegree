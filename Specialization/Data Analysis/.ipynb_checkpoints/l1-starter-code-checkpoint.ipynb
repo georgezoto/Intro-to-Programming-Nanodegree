{
 "cells": [
  {
   "cell_type": "markdown",
   "metadata": {},
   "source": [
    "Before we get started, a couple of reminders to keep in mind when using iPython notebooks:\n",
    "\n",
    "- Remember that you can see from the left side of a code cell when it was last run if there is a number within the brackets.\n",
    "- When you start a new notebook session, make sure you run all of the cells up to the point where you last left off. Even if the output is still visible from when you ran the cells in your previous session, the kernel starts in a fresh state so you'll need to reload the data, etc. on a new session.\n",
    "- The previous point is useful to keep in mind if your answers do not match what is expected in the lesson's quizzes. Try reloading the data and run all of the processing steps one by one in order to make sure that you are working with the same variables and data that are at each quiz stage.\n",
    "\n",
    "\n",
    "## Load Data from CSVs"
   ]
  },
  {
   "cell_type": "code",
   "execution_count": 1,
   "metadata": {},
   "outputs": [],
   "source": [
    "import unicodecsv\n",
    "\n",
    "## Longer version of code (replaced with shorter, equivalent version below)\n",
    "\n",
    "# enrollments = []\n",
    "# f = open('enrollments.csv', 'rb')\n",
    "# reader = unicodecsv.DictReader(f)\n",
    "# for row in reader:\n",
    "#     enrollments.append(row)\n",
    "# f.close()\n",
    "\n",
    "def read_csv(file_name):\n",
    "    with open(file_name, 'rb') as f:\n",
    "        reader = unicodecsv.DictReader(f)\n",
    "        return list(reader)\n",
    "    \n",
    "enrollments = read_csv('enrollments.csv')\n",
    "daily_engagement = read_csv('daily-engagement.csv')\n",
    "project_submissions = read_csv('project-submissions.csv')"
   ]
  },
  {
   "cell_type": "code",
   "execution_count": 2,
   "metadata": {},
   "outputs": [
    {
     "name": "stdout",
     "output_type": "stream",
     "text": [
      "[u'status', u'is_udacity', u'is_canceled', u'join_date', u'account_key', u'cancel_date', u'days_to_cancel']\n",
      "[u'canceled', u'True', u'True', u'2014-11-10', u'448', u'2015-01-14', u'65']\n",
      "\n",
      "\n",
      "[u'lessons_completed', u'num_courses_visited', u'total_minutes_visited', u'projects_completed', u'acct', u'utc_date']\n",
      "[u'0.0', u'1.0', u'11.6793745', u'0.0', u'0', u'2015-01-09']\n",
      "\n",
      "\n",
      "[u'lesson_key', u'processing_state', u'account_key', u'assigned_rating', u'completion_date', u'creation_date']\n",
      "[u'3176718735', u'EVALUATED', u'256', u'UNGRADED', u'2015-01-16', u'2015-01-14']\n"
     ]
    }
   ],
   "source": [
    "#####################################\n",
    "#                 1                 #\n",
    "#####################################\n",
    "\n",
    "## Read in the data from daily_engagement.csv and project_submissions.csv \n",
    "## and store the results in the below variables.\n",
    "## Then look at the first row of each table.\n",
    "\n",
    "print enrollments[0].keys()\n",
    "print enrollments[0].values()\n",
    "print '\\n'\n",
    "print daily_engagement[0].keys()\n",
    "print daily_engagement[0].values()\n",
    "print '\\n'\n",
    "print project_submissions[0].keys()\n",
    "print project_submissions[0].values()"
   ]
  },
  {
   "cell_type": "markdown",
   "metadata": {},
   "source": [
    "## Fixing Data Types"
   ]
  },
  {
   "cell_type": "code",
   "execution_count": 3,
   "metadata": {},
   "outputs": [
    {
     "data": {
      "text/plain": [
       "{u'account_key': u'448',\n",
       " u'cancel_date': datetime.datetime(2015, 1, 14, 0, 0),\n",
       " u'days_to_cancel': 65,\n",
       " u'is_canceled': True,\n",
       " u'is_udacity': True,\n",
       " u'join_date': datetime.datetime(2014, 11, 10, 0, 0),\n",
       " u'status': u'canceled'}"
      ]
     },
     "execution_count": 3,
     "metadata": {},
     "output_type": "execute_result"
    }
   ],
   "source": [
    "from datetime import datetime as dt\n",
    "\n",
    "# Takes a date as a string, and returns a Python datetime object. \n",
    "# If there is no date given, returns None\n",
    "def parse_date(date):\n",
    "    if date == '':\n",
    "        return None\n",
    "    else:\n",
    "        return dt.strptime(date, '%Y-%m-%d')\n",
    "    \n",
    "# Takes a string which is either an empty string or represents an integer,\n",
    "# and returns an int or None.\n",
    "def parse_maybe_int(i):\n",
    "    if i == '':\n",
    "        return None\n",
    "    else:\n",
    "        return int(i)\n",
    "\n",
    "# Clean up the data types in the enrollments table\n",
    "for enrollment in enrollments:\n",
    "    enrollment['cancel_date'] = parse_date(enrollment['cancel_date'])\n",
    "    enrollment['days_to_cancel'] = parse_maybe_int(enrollment['days_to_cancel'])\n",
    "    enrollment['is_canceled'] = enrollment['is_canceled'] == 'True'\n",
    "    enrollment['is_udacity'] = enrollment['is_udacity'] == 'True'\n",
    "    enrollment['join_date'] = parse_date(enrollment['join_date'])\n",
    "    \n",
    "enrollments[0]"
   ]
  },
  {
   "cell_type": "code",
   "execution_count": 4,
   "metadata": {},
   "outputs": [
    {
     "data": {
      "text/plain": [
       "{u'acct': u'0',\n",
       " u'lessons_completed': 0,\n",
       " u'num_courses_visited': 1,\n",
       " u'projects_completed': 0,\n",
       " u'total_minutes_visited': 11.6793745,\n",
       " u'utc_date': datetime.datetime(2015, 1, 9, 0, 0)}"
      ]
     },
     "execution_count": 4,
     "metadata": {},
     "output_type": "execute_result"
    }
   ],
   "source": [
    "# Clean up the data types in the engagement table\n",
    "for engagement_record in daily_engagement:\n",
    "    engagement_record['lessons_completed'] = int(float(engagement_record['lessons_completed']))\n",
    "    engagement_record['num_courses_visited'] = int(float(engagement_record['num_courses_visited']))\n",
    "    engagement_record['projects_completed'] = int(float(engagement_record['projects_completed']))\n",
    "    engagement_record['total_minutes_visited'] = float(engagement_record['total_minutes_visited'])\n",
    "    engagement_record['utc_date'] = parse_date(engagement_record['utc_date'])\n",
    "    \n",
    "daily_engagement[0]"
   ]
  },
  {
   "cell_type": "code",
   "execution_count": 5,
   "metadata": {},
   "outputs": [
    {
     "data": {
      "text/plain": [
       "{u'account_key': u'256',\n",
       " u'assigned_rating': u'UNGRADED',\n",
       " u'completion_date': datetime.datetime(2015, 1, 16, 0, 0),\n",
       " u'creation_date': datetime.datetime(2015, 1, 14, 0, 0),\n",
       " u'lesson_key': u'3176718735',\n",
       " u'processing_state': u'EVALUATED'}"
      ]
     },
     "execution_count": 5,
     "metadata": {},
     "output_type": "execute_result"
    }
   ],
   "source": [
    "# Clean up the data types in the submissions table\n",
    "for submission in project_submissions:\n",
    "    submission['completion_date'] = parse_date(submission['completion_date'])\n",
    "    submission['creation_date'] = parse_date(submission['creation_date'])\n",
    "\n",
    "project_submissions[0]"
   ]
  },
  {
   "cell_type": "markdown",
   "metadata": {},
   "source": [
    "## Problems in the Data"
   ]
  },
  {
   "cell_type": "code",
   "execution_count": 6,
   "metadata": {},
   "outputs": [
    {
     "data": {
      "text/plain": [
       "{'account_key': u'0',\n",
       " u'lessons_completed': 0,\n",
       " u'num_courses_visited': 1,\n",
       " u'projects_completed': 0,\n",
       " u'total_minutes_visited': 11.6793745,\n",
       " u'utc_date': datetime.datetime(2015, 1, 9, 0, 0)}"
      ]
     },
     "execution_count": 6,
     "metadata": {},
     "output_type": "execute_result"
    }
   ],
   "source": [
    "#####################################\n",
    "#                 3                 #\n",
    "#####################################\n",
    "\n",
    "## Rename the \"acct\" column in the daily_engagement table to \"account_key\".\n",
    "\n",
    "def rename_key(input_list, old_key, new_key):\n",
    "    for record in input_list:\n",
    "        if old_key in record:\n",
    "            record[new_key] = record.pop(old_key)\n",
    "\n",
    "rename_key(daily_engagement, 'acct', 'account_key')\n",
    "daily_engagement[0]"
   ]
  },
  {
   "cell_type": "markdown",
   "metadata": {},
   "source": [
    "Note when running the above cells that we are actively changing the contents of our data variables. If you try to run these cells multiple times in the same session, an error will occur.\n",
    "\n",
    "## Investigating the Data"
   ]
  },
  {
   "cell_type": "code",
   "execution_count": 7,
   "metadata": {},
   "outputs": [
    {
     "name": "stdout",
     "output_type": "stream",
     "text": [
      "[{u'status': u'canceled', u'is_udacity': True, u'is_canceled': True, u'join_date': datetime.datetime(2014, 11, 10, 0, 0), u'account_key': u'448', u'cancel_date': datetime.datetime(2015, 1, 14, 0, 0), u'days_to_cancel': 65}, {u'status': u'canceled', u'is_udacity': True, u'is_canceled': True, u'join_date': datetime.datetime(2014, 11, 5, 0, 0), u'account_key': u'448', u'cancel_date': datetime.datetime(2014, 11, 10, 0, 0), u'days_to_cancel': 5}]\n",
      "\n",
      "\n",
      "enrollments records: 1640, unique students: 1302\n",
      "daily_engagement records: 136240, unique students: 1237\n",
      "project_submissions records: 3642, unique students: 743\n"
     ]
    }
   ],
   "source": [
    "#####################################\n",
    "#                 2                 #\n",
    "#####################################\n",
    "\n",
    "## Find the total number of rows and the number of unique students (account keys)\n",
    "## in each table.\n",
    "\n",
    "def unique_keys(input_list, key):\n",
    "    keys = []\n",
    "    for record in input_list:\n",
    "        keys.append(record[key])\n",
    "    return set(keys)\n",
    "\n",
    "print enrollments[:2]\n",
    "print '\\n'\n",
    "print 'enrollments records: ' + str(len(enrollments)) + ', unique students: ' + str(len(unique_keys(enrollments, 'account_key')))\n",
    "print 'daily_engagement records: ' + str(len(daily_engagement)) + ', unique students: ' + str(len(unique_keys(daily_engagement, 'account_key')))\n",
    "print 'project_submissions records: ' + str(len(project_submissions)) + ', unique students: ' + str(len(unique_keys(project_submissions, 'account_key')))"
   ]
  },
  {
   "cell_type": "markdown",
   "metadata": {},
   "source": [
    "## Missing Engagement Records"
   ]
  },
  {
   "cell_type": "code",
   "execution_count": 8,
   "metadata": {},
   "outputs": [
    {
     "name": "stdout",
     "output_type": "stream",
     "text": [
      "65\n",
      "1304\n"
     ]
    }
   ],
   "source": [
    "#####################################\n",
    "#                 4                 #\n",
    "#####################################\n",
    "\n",
    "## Find any one student enrollments where the student is missing from the daily engagement table.\n",
    "## Output that enrollment.\n",
    "\n",
    "def list_difference(input_list1, key1, input_list2, key2):\n",
    "    set1 = unique_keys(input_list1, key1)\n",
    "    set2 = unique_keys(input_list2, key2)\n",
    "    return set1.difference(set2)\n",
    "\n",
    "        \n",
    "enrollments_not_daily_engagement = list_difference(enrollments, 'account_key', daily_engagement, 'account_key')\n",
    "print len(enrollments_not_daily_engagement)\n",
    "print list(enrollments_not_daily_engagement)[0]"
   ]
  },
  {
   "cell_type": "markdown",
   "metadata": {},
   "source": [
    "## Checking for More Problem Records"
   ]
  },
  {
   "cell_type": "code",
   "execution_count": 9,
   "metadata": {},
   "outputs": [
    {
     "name": "stdout",
     "output_type": "stream",
     "text": [
      "{u'status': u'canceled', u'is_udacity': True, u'is_canceled': True, u'join_date': datetime.datetime(2015, 1, 10, 0, 0), u'account_key': u'1304', u'cancel_date': datetime.datetime(2015, 3, 10, 0, 0), u'days_to_cancel': 59}\n",
      "{u'status': u'canceled', u'is_udacity': True, u'is_canceled': True, u'join_date': datetime.datetime(2015, 3, 10, 0, 0), u'account_key': u'1304', u'cancel_date': datetime.datetime(2015, 6, 17, 0, 0), u'days_to_cancel': 99}\n",
      "{u'status': u'current', u'is_udacity': True, u'is_canceled': False, u'join_date': datetime.datetime(2015, 2, 25, 0, 0), u'account_key': u'1101', u'cancel_date': None, u'days_to_cancel': None}\n"
     ]
    }
   ],
   "source": [
    "#####################################\n",
    "#                 5                 #\n",
    "#####################################\n",
    "\n",
    "## Find the number of surprising data points (enrollments missing from\n",
    "## the engagement table) that remain, if any.\n",
    "\n",
    "def enrollment_keys(enrollments, input_key, set_keys, output_key):\n",
    "    for student in enrollments:\n",
    "        if student[input_key] in set_keys:\n",
    "            #print str(student[input_key]) + ' - ' +str(type(student[output_key]))\n",
    "            if (student[output_key] is None) or (int(student[output_key]) > 0):\n",
    "                print student\n",
    "                \n",
    "enrollment_keys(enrollments, 'account_key', enrollments_not_daily_engagement, 'days_to_cancel')"
   ]
  },
  {
   "cell_type": "markdown",
   "metadata": {},
   "source": [
    "## Tracking Down the Remaining Problems"
   ]
  },
  {
   "cell_type": "code",
   "execution_count": 10,
   "metadata": {},
   "outputs": [
    {
     "name": "stdout",
     "output_type": "stream",
     "text": [
      "6\n"
     ]
    }
   ],
   "source": [
    "# Create a set of the account keys for all Udacity test accounts\n",
    "udacity_test_accounts = set()\n",
    "for enrollment in enrollments:\n",
    "    if enrollment['is_udacity']:\n",
    "        udacity_test_accounts.add(enrollment['account_key'])\n",
    "        #print enrollment\n",
    "        \n",
    "print len(udacity_test_accounts)"
   ]
  },
  {
   "cell_type": "code",
   "execution_count": 11,
   "metadata": {},
   "outputs": [],
   "source": [
    "# Given some data with an account_key field, removes any records corresponding to Udacity test accounts\n",
    "def remove_udacity_accounts(data):\n",
    "    non_udacity_data = []\n",
    "    for data_point in data:\n",
    "        if data_point['account_key'] not in udacity_test_accounts:\n",
    "            non_udacity_data.append(data_point)\n",
    "    return non_udacity_data"
   ]
  },
  {
   "cell_type": "code",
   "execution_count": 12,
   "metadata": {},
   "outputs": [
    {
     "name": "stdout",
     "output_type": "stream",
     "text": [
      "1622\n",
      "135656\n",
      "3634\n"
     ]
    }
   ],
   "source": [
    "# Remove Udacity test accounts from all three tables\n",
    "non_udacity_enrollments = remove_udacity_accounts(enrollments)\n",
    "non_udacity_engagement = remove_udacity_accounts(daily_engagement)\n",
    "non_udacity_submissions = remove_udacity_accounts(project_submissions)\n",
    "\n",
    "print len(non_udacity_enrollments)\n",
    "print len(non_udacity_engagement)\n",
    "print len(non_udacity_submissions)"
   ]
  },
  {
   "cell_type": "markdown",
   "metadata": {},
   "source": [
    "## Refining the Question"
   ]
  },
  {
   "cell_type": "code",
   "execution_count": 13,
   "metadata": {},
   "outputs": [
    {
     "name": "stdout",
     "output_type": "stream",
     "text": [
      "995\n",
      "2015-04-20 00:00:00\n"
     ]
    }
   ],
   "source": [
    "#####################################\n",
    "#                 6                 #\n",
    "#####################################\n",
    "\n",
    "## Create a dictionary named paid_students containing all students who either\n",
    "## haven't canceled yet or who remained enrolled for more than 7 days. The keys\n",
    "## should be account keys, and the values should be the date the student enrolled.\n",
    "\n",
    "paid_students = {}\n",
    "for enrollment in non_udacity_enrollments:\n",
    "    if (enrollment['days_to_cancel'] is None) or (enrollment['days_to_cancel'] > 7):\n",
    "        \n",
    "        #save latest enrollment data\n",
    "        if enrollment['account_key'] not in paid_students or \\\n",
    "            enrollment['join_date'] > paid_students[enrollment['account_key']]:\n",
    "                paid_students[enrollment['account_key']] = enrollment['join_date']\n",
    "        \n",
    "print len(paid_students)\n",
    "print paid_students['108']"
   ]
  },
  {
   "cell_type": "markdown",
   "metadata": {},
   "source": [
    "## Getting Data from First Week"
   ]
  },
  {
   "cell_type": "code",
   "execution_count": 14,
   "metadata": {},
   "outputs": [],
   "source": [
    "# Takes a student's join date and the date of a specific engagement record,\n",
    "# and returns True if that engagement record happened within one week\n",
    "# of the student joining.\n",
    "def within_one_week(join_date, engagement_date):\n",
    "    time_delta = engagement_date - join_date\n",
    "    return time_delta.days < 7 and engagement_date >= join_date\n",
    "\n",
    "#>>> (datetime.datetime(2015, 7, 9, 0, 0) - datetime.datetime(2015, 7, 11, 0, 0)).days\n",
    "#-2\n",
    "#>>> (datetime.datetime(2015, 7, 9, 0, 0) - datetime.datetime(2015, 7, 11, 0, 0)).days < 7\n",
    "#True"
   ]
  },
  {
   "cell_type": "code",
   "execution_count": 15,
   "metadata": {},
   "outputs": [
    {
     "name": "stdout",
     "output_type": "stream",
     "text": [
      "2015-04-20 00:00:00 2015-04-20 00:00:00 True\n",
      "2015-04-20 00:00:00 2015-04-21 00:00:00 True\n",
      "2015-04-20 00:00:00 2015-04-22 00:00:00 True\n",
      "2015-04-20 00:00:00 2015-04-23 00:00:00 True\n",
      "2015-04-20 00:00:00 2015-04-24 00:00:00 True\n",
      "2015-04-20 00:00:00 2015-04-25 00:00:00 True\n",
      "2015-04-20 00:00:00 2015-04-26 00:00:00 True\n",
      "6919\n",
      "[{u'lessons_completed': 0, u'num_courses_visited': 1, u'total_minutes_visited': 11.6793745, u'projects_completed': 0, 'account_key': u'0', u'utc_date': datetime.datetime(2015, 1, 9, 0, 0)}, {u'lessons_completed': 0, u'num_courses_visited': 2, u'total_minutes_visited': 37.2848873333, u'projects_completed': 0, 'account_key': u'0', u'utc_date': datetime.datetime(2015, 1, 10, 0, 0)}]\n"
     ]
    }
   ],
   "source": [
    "#####################################\n",
    "#                 7                 #\n",
    "#####################################\n",
    "\n",
    "## Create a list of rows from the engagement table including only rows where\n",
    "## the student is one of the paid students you just found, and the date is within\n",
    "## one week of the student's join date.\n",
    "\n",
    "paid_engagement_in_first_week = []\n",
    "for engagement in non_udacity_engagement:\n",
    "    if engagement['account_key'] in paid_students and \\\n",
    "        paid_students[engagement['account_key']] and engagement['utc_date'] and \\\n",
    "        within_one_week(paid_students[engagement['account_key']], engagement['utc_date']):\n",
    "        paid_engagement_in_first_week.append(engagement)\n",
    "        if engagement['account_key'] == '108':\n",
    "            print paid_students[engagement['account_key']], engagement['utc_date'], within_one_week(paid_students[engagement['account_key']], engagement['utc_date'])\n",
    "    \n",
    "\n",
    "print len(paid_engagement_in_first_week)\n",
    "print paid_engagement_in_first_week[:2]"
   ]
  },
  {
   "cell_type": "markdown",
   "metadata": {},
   "source": [
    "## Exploring Student Engagement"
   ]
  },
  {
   "cell_type": "code",
   "execution_count": 16,
   "metadata": {},
   "outputs": [
    {
     "name": "stdout",
     "output_type": "stream",
     "text": [
      "{u'lessons_completed': 0, u'num_courses_visited': 2, u'total_minutes_visited': 25.9137858334, u'projects_completed': 0, 'account_key': u'108', u'utc_date': datetime.datetime(2015, 4, 20, 0, 0)}\n",
      "{u'lessons_completed': 0, u'num_courses_visited': 1, u'total_minutes_visited': 3.40682316667, u'projects_completed': 0, 'account_key': u'108', u'utc_date': datetime.datetime(2015, 4, 21, 0, 0)}\n",
      "{u'lessons_completed': 0, u'num_courses_visited': 2, u'total_minutes_visited': 99.1186611667, u'projects_completed': 0, 'account_key': u'108', u'utc_date': datetime.datetime(2015, 4, 22, 0, 0)}\n",
      "{u'lessons_completed': 0, u'num_courses_visited': 1, u'total_minutes_visited': 35.8316206667, u'projects_completed': 2, 'account_key': u'108', u'utc_date': datetime.datetime(2015, 4, 23, 0, 0)}\n",
      "{u'lessons_completed': 0, u'num_courses_visited': 0, u'total_minutes_visited': 0.0, u'projects_completed': 0, 'account_key': u'108', u'utc_date': datetime.datetime(2015, 4, 24, 0, 0)}\n",
      "{u'lessons_completed': 0, u'num_courses_visited': 0, u'total_minutes_visited': 0.0, u'projects_completed': 0, 'account_key': u'108', u'utc_date': datetime.datetime(2015, 4, 25, 0, 0)}\n",
      "{u'lessons_completed': 0, u'num_courses_visited': 0, u'total_minutes_visited': 0.0, u'projects_completed': 0, 'account_key': u'108', u'utc_date': datetime.datetime(2015, 4, 26, 0, 0)}\n",
      "[u'1200']\n",
      "[(u'1200', [{u'lessons_completed': 1, u'num_courses_visited': 2, u'total_minutes_visited': 114.853432, u'projects_completed': 0, 'account_key': u'1200', u'utc_date': datetime.datetime(2015, 3, 4, 0, 0)}, {u'lessons_completed': 0, u'num_courses_visited': 1, u'total_minutes_visited': 43.4168625, u'projects_completed': 0, 'account_key': u'1200', u'utc_date': datetime.datetime(2015, 3, 5, 0, 0)}, {u'lessons_completed': 0, u'num_courses_visited': 1, u'total_minutes_visited': 187.776832833, u'projects_completed': 0, 'account_key': u'1200', u'utc_date': datetime.datetime(2015, 3, 6, 0, 0)}, {u'lessons_completed': 0, u'num_courses_visited': 1, u'total_minutes_visited': 150.081577333, u'projects_completed': 0, 'account_key': u'1200', u'utc_date': datetime.datetime(2015, 3, 7, 0, 0)}, {u'lessons_completed': 0, u'num_courses_visited': 1, u'total_minutes_visited': 191.61088, u'projects_completed': 0, 'account_key': u'1200', u'utc_date': datetime.datetime(2015, 3, 8, 0, 0)}, {u'lessons_completed': 0, u'num_courses_visited': 0, u'total_minutes_visited': 0.0, u'projects_completed': 0, 'account_key': u'1200', u'utc_date': datetime.datetime(2015, 3, 9, 0, 0)}, {u'lessons_completed': 0, u'num_courses_visited': 1, u'total_minutes_visited': 8.83762516667, u'projects_completed': 0, 'account_key': u'1200', u'utc_date': datetime.datetime(2015, 3, 10, 0, 0)}])]\n"
     ]
    }
   ],
   "source": [
    "from collections import defaultdict\n",
    "\n",
    "# Create a dictionary of engagement grouped by student.\n",
    "# The keys are account keys, and the values are lists of engagement records.\n",
    "engagement_by_account = defaultdict(list)\n",
    "for engagement_record in paid_engagement_in_first_week:\n",
    "    account_key = engagement_record['account_key']\n",
    "    engagement_by_account[account_key].append(engagement_record)\n",
    "    if account_key == '108':\n",
    "        print engagement_record\n",
    "    \n",
    "print engagement_by_account.keys()[:1]\n",
    "print engagement_by_account.items()[:1]"
   ]
  },
  {
   "cell_type": "code",
   "execution_count": 17,
   "metadata": {
    "scrolled": false
   },
   "outputs": [
    {
     "name": "stdout",
     "output_type": "stream",
     "text": [
      "1200 696.577209833\n",
      "347 713.347952499\n",
      "811 1138.3177015\n",
      "812 1764.53679833\n",
      "1060 1768.52274933\n",
      "140 2050.11567517\n",
      "175 2375.79549867\n",
      "317 2778.31614467\n",
      "163 3564.7332645\n",
      "'lessons_completed', 'num_courses_visited', 'total_minutes_visited', 'projects_completed', 'account_key', 'utc_date'\n",
      "4 4 850 0 163 2015-07-09 00:00:00\n",
      "6 6 872 0 163 2015-07-10 00:00:00\n",
      "6 2 777 0 163 2015-07-11 00:00:00\n",
      "2 1 294 0 163 2015-07-12 00:00:00\n",
      "1 3 471 0 163 2015-07-13 00:00:00\n",
      "1 2 298 0 163 2015-07-14 00:00:00\n",
      "0 0 0 0 163 2015-07-15 00:00:00\n",
      "{u'status': u'current', u'is_udacity': False, u'is_canceled': False, u'join_date': datetime.datetime(2015, 7, 9, 0, 0), u'account_key': u'163', u'cancel_date': None, u'days_to_cancel': None}\n"
     ]
    }
   ],
   "source": [
    "# Create a dictionary with the total minutes each student spent in the classroom during the first week.\n",
    "# The keys are account keys, and the values are numbers (total minutes)\n",
    "\n",
    "def total_parameter_by_account(parameter, engagement_by_account):\n",
    "    max_minutes = 0\n",
    "    max_minutes_index = 0\n",
    "\n",
    "    total_minutes_by_account = {}\n",
    "    for account_key, engagement_for_student in engagement_by_account.items():\n",
    "        total_minutes = 0\n",
    "        for engagement_record in engagement_for_student:\n",
    "            total_minutes += engagement_record[parameter]\n",
    "        total_minutes_by_account[account_key] = total_minutes\n",
    "\n",
    "        if total_minutes > max_minutes:\n",
    "            max_minutes = total_minutes\n",
    "            max_minutes_index = account_key\n",
    "            print account_key, total_minutes\n",
    "    return [total_minutes_by_account, max_minutes_index]\n",
    "\n",
    "[total_minutes_by_account, max_minutes_index] = total_parameter_by_account('total_minutes_visited', engagement_by_account)\n",
    "\n",
    "#print total_minutes_by_account.items()[:1]\n",
    "print \"'lessons_completed', 'num_courses_visited', 'total_minutes_visited', 'projects_completed', 'account_key', 'utc_date'\"\n",
    "for e in engagement_by_account[max_minutes_index]:\n",
    "    print e['lessons_completed'], e['num_courses_visited'], int(e['total_minutes_visited']), e['projects_completed'], e['account_key'], e['utc_date']\n",
    "    \n",
    "for enrollment in non_udacity_enrollments:\n",
    "    if enrollment['account_key'] == max_minutes_index:\n",
    "        print enrollment\n"
   ]
  },
  {
   "cell_type": "code",
   "execution_count": 18,
   "metadata": {
    "scrolled": true
   },
   "outputs": [
    {
     "name": "stdout",
     "output_type": "stream",
     "text": [
      "[1482.9020456663002, 129.85920366667]\n",
      "Mean: 306.708326753\n",
      "Standard deviation: 412.996933409\n",
      "Minimum: 0.0\n",
      "Maximum: 3564.7332645\n"
     ]
    }
   ],
   "source": [
    "import numpy as np\n",
    "\n",
    "# Summarize the data about minutes spent in the classroom\n",
    "def summarize_data(total_minutes_by_account):\n",
    "    total_minutes = total_minutes_by_account.values()\n",
    "    print total_minutes[:2]\n",
    "\n",
    "    print 'Mean:', np.mean(total_minutes)\n",
    "    print 'Standard deviation:', np.std(total_minutes)\n",
    "    print 'Minimum:', np.min(total_minutes)\n",
    "    print 'Maximum:', np.max(total_minutes)\n",
    "    \n",
    "summarize_data(total_minutes_by_account)"
   ]
  },
  {
   "cell_type": "markdown",
   "metadata": {},
   "source": [
    "## Debugging Data Analysis Code"
   ]
  },
  {
   "cell_type": "code",
   "execution_count": 19,
   "metadata": {},
   "outputs": [],
   "source": [
    "#####################################\n",
    "#                 8                 #\n",
    "#####################################\n",
    "\n",
    "## Go through a similar process as before to see if there is a problem.\n",
    "## Locate at least one surprising piece of data, output it, and take a look at it.\n",
    "\n",
    "#>>> (datetime.datetime(2015, 7, 9, 0, 0) - datetime.datetime(2015, 7, 11, 0, 0)).days\n",
    "#-2\n",
    "#>>> (datetime.datetime(2015, 7, 9, 0, 0) - datetime.datetime(2015, 7, 11, 0, 0)).days < 7\n",
    "#True"
   ]
  },
  {
   "cell_type": "markdown",
   "metadata": {},
   "source": [
    "## Lessons Completed in First Week"
   ]
  },
  {
   "cell_type": "code",
   "execution_count": 20,
   "metadata": {},
   "outputs": [
    {
     "name": "stdout",
     "output_type": "stream",
     "text": [
      "1200 1\n",
      "344 4\n",
      "811 9\n",
      "812 20\n",
      "885 27\n",
      "633 36\n",
      "[6, 1]\n",
      "Mean: 1.63618090452\n",
      "Standard deviation: 3.00256129983\n",
      "Minimum: 0\n",
      "Maximum: 36\n"
     ]
    }
   ],
   "source": [
    "#####################################\n",
    "#                 9                 #\n",
    "#####################################\n",
    "\n",
    "## Adapt the code above to find the mean, standard deviation, minimum, and maximum for\n",
    "## the number of lessons completed by each student during the first week. Try creating\n",
    "## one or more functions to re-use the code above.\n",
    "\n",
    "[total_lessons_by_account, max_lesson_index] = total_parameter_by_account('lessons_completed', engagement_by_account)\n",
    "summarize_data(total_lessons_by_account)"
   ]
  },
  {
   "cell_type": "markdown",
   "metadata": {},
   "source": [
    "## Number of Visits in First Week"
   ]
  },
  {
   "cell_type": "code",
   "execution_count": 21,
   "metadata": {},
   "outputs": [
    {
     "name": "stdout",
     "output_type": "stream",
     "text": [
      "1200 6\n",
      "344 7\n",
      "[5, 3]\n",
      "Mean: 2.86733668342\n",
      "Standard deviation: 2.25519800292\n",
      "Minimum: 0\n",
      "Maximum: 7\n"
     ]
    }
   ],
   "source": [
    "######################################\n",
    "#                 10                 #\n",
    "######################################\n",
    "\n",
    "## Find the mean, standard deviation, minimum, and maximum for the number of\n",
    "## days each student visits the classroom (any nanodegree) during the first week.\n",
    "\n",
    "def total_parameter_occurence_by_account(parameter, engagement_by_account):\n",
    "    max_minutes = 0\n",
    "    max_minutes_index = 0\n",
    "\n",
    "    total_minutes_by_account = {}\n",
    "    for account_key, engagement_for_student in engagement_by_account.items():\n",
    "        total_minutes = 0\n",
    "        for engagement_record in engagement_for_student:\n",
    "            if engagement_record[parameter] > 0:\n",
    "                total_minutes += 1\n",
    "        total_minutes_by_account[account_key] = total_minutes\n",
    "\n",
    "        if total_minutes > max_minutes:\n",
    "            max_minutes = total_minutes\n",
    "            max_minutes_index = account_key\n",
    "            print account_key, total_minutes\n",
    "    return [total_minutes_by_account, max_minutes_index]\n",
    "\n",
    "[total_class_visits_by_account, max_visits_index] = total_parameter_occurence_by_account('num_courses_visited', engagement_by_account)\n",
    "summarize_data(total_class_visits_by_account)"
   ]
  },
  {
   "cell_type": "markdown",
   "metadata": {},
   "source": [
    "## Splitting out Passing Students"
   ]
  },
  {
   "cell_type": "code",
   "execution_count": 82,
   "metadata": {},
   "outputs": [
    {
     "name": "stdout",
     "output_type": "stream",
     "text": [
      "removed from non_passing 256\n",
      "removed from non_passing 381\n",
      "removed from non_passing 616\n",
      "removed from non_passing 152\n",
      "removed from non_passing 273\n",
      "removed from non_passing 608\n",
      "removed from non_passing 168\n",
      "removed from non_passing 224\n",
      "removed from non_passing 641\n",
      "removed from non_passing 484\n",
      "removed from non_passing 57\n",
      "removed from non_passing 130\n",
      "removed from non_passing 365\n",
      "removed from non_passing 90\n",
      "removed from non_passing 84\n",
      "removed from non_passing 605\n",
      "removed from non_passing 313\n",
      "removed from non_passing 629\n",
      "removed from non_passing 541\n",
      "removed from non_passing 413\n",
      "removed from non_passing 652\n",
      "removed from non_passing 138\n",
      "removed from non_passing 198\n",
      "removed from non_passing 606\n",
      "removed from non_passing 632\n",
      "removed from non_passing 69\n",
      "removed from non_passing 361\n",
      "removed from non_passing 523\n",
      "removed from non_passing 501\n",
      "removed from non_passing 544\n",
      "removed from non_passing 314\n",
      "removed from non_passing 318\n",
      "removed from non_passing 515\n",
      "removed from non_passing 460\n",
      "removed from non_passing 103\n",
      "removed from non_passing 379\n",
      "removed from non_passing 196\n",
      "removed from non_passing 582\n",
      "removed from non_passing 254\n",
      "removed from non_passing 600\n",
      "removed from non_passing 637\n",
      "removed from non_passing 214\n",
      "removed from non_passing 241\n",
      "removed from non_passing 587\n",
      "removed from non_passing 153\n",
      "removed from non_passing 92\n",
      "removed from non_passing 330\n",
      "removed from non_passing 175\n",
      "removed from non_passing 624\n",
      "removed from non_passing 564\n",
      "removed from non_passing 526\n",
      "removed from non_passing 350\n",
      "removed from non_passing 295\n",
      "removed from non_passing 384\n",
      "removed from non_passing 554\n",
      "removed from non_passing 110\n",
      "removed from non_passing 5\n",
      "removed from non_passing 82\n",
      "removed from non_passing 396\n",
      "removed from non_passing 166\n",
      "removed from non_passing 181\n",
      "removed from non_passing 125\n",
      "removed from non_passing 21\n",
      "removed from non_passing 56\n",
      "removed from non_passing 539\n",
      "removed from non_passing 532\n",
      "removed from non_passing 77\n",
      "removed from non_passing 444\n",
      "removed from non_passing 119\n",
      "removed from non_passing 592\n",
      "removed from non_passing 621\n",
      "removed from non_passing 127\n",
      "removed from non_passing 577\n",
      "removed from non_passing 25\n",
      "removed from non_passing 94\n",
      "removed from non_passing 524\n",
      "removed from non_passing 389\n",
      "removed from non_passing 367\n",
      "removed from non_passing 275\n",
      "removed from non_passing 327\n",
      "removed from non_passing 96\n",
      "removed from non_passing 137\n",
      "removed from non_passing 488\n",
      "removed from non_passing 134\n",
      "removed from non_passing 594\n",
      "removed from non_passing 147\n",
      "removed from non_passing 46\n",
      "removed from non_passing 292\n",
      "removed from non_passing 613\n",
      "removed from non_passing 346\n",
      "removed from non_passing 418\n",
      "removed from non_passing 508\n",
      "removed from non_passing 100\n",
      "removed from non_passing 510\n",
      "removed from non_passing 32\n",
      "removed from non_passing 0\n",
      "removed from non_passing 511\n",
      "removed from non_passing 467\n",
      "removed from non_passing 171\n",
      "removed from non_passing 239\n",
      "removed from non_passing 136\n",
      "removed from non_passing 190\n",
      "removed from non_passing 31\n",
      "removed from non_passing 530\n",
      "removed from non_passing 308\n",
      "removed from non_passing 131\n",
      "removed from non_passing 457\n",
      "removed from non_passing 409\n",
      "removed from non_passing 20\n",
      "removed from non_passing 205\n",
      "removed from non_passing 395\n",
      "removed from non_passing 464\n",
      "removed from non_passing 117\n",
      "removed from non_passing 341\n",
      "removed from non_passing 437\n",
      "removed from non_passing 291\n",
      "removed from non_passing 86\n",
      "removed from non_passing 158\n",
      "removed from non_passing 358\n",
      "removed from non_passing 78\n",
      "removed from non_passing 227\n",
      "removed from non_passing 22\n",
      "removed from non_passing 607\n",
      "removed from non_passing 271\n",
      "removed from non_passing 509\n",
      "removed from non_passing 536\n",
      "removed from non_passing 363\n",
      "removed from non_passing 404\n",
      "removed from non_passing 211\n",
      "removed from non_passing 407\n",
      "removed from non_passing 376\n",
      "removed from non_passing 619\n",
      "removed from non_passing 109\n",
      "removed from non_passing 456\n",
      "removed from non_passing 481\n",
      "removed from non_passing 199\n",
      "removed from non_passing 542\n",
      "removed from non_passing 485\n",
      "removed from non_passing 320\n",
      "removed from non_passing 226\n",
      "removed from non_passing 454\n",
      "removed from non_passing 133\n",
      "removed from non_passing 398\n",
      "removed from non_passing 213\n",
      "removed from non_passing 332\n",
      "removed from non_passing 99\n",
      "removed from non_passing 643\n",
      "removed from non_passing 560\n",
      "removed from non_passing 222\n",
      "removed from non_passing 163\n",
      "removed from non_passing 345\n",
      "removed from non_passing 306\n",
      "removed from non_passing 403\n",
      "removed from non_passing 316\n",
      "removed from non_passing 277\n",
      "removed from non_passing 424\n",
      "removed from non_passing 630\n",
      "removed from non_passing 473\n",
      "removed from non_passing 400\n",
      "removed from non_passing 102\n",
      "removed from non_passing 53\n",
      "removed from non_passing 121\n",
      "removed from non_passing 184\n",
      "removed from non_passing 287\n",
      "removed from non_passing 422\n",
      "removed from non_passing 420\n",
      "removed from non_passing 429\n",
      "removed from non_passing 487\n",
      "removed from non_passing 270\n",
      "removed from non_passing 633\n",
      "removed from non_passing 333\n",
      "removed from non_passing 39\n",
      "removed from non_passing 33\n",
      "removed from non_passing 648\n",
      "removed from non_passing 305\n",
      "removed from non_passing 170\n",
      "removed from non_passing 428\n",
      "removed from non_passing 494\n",
      "removed from non_passing 348\n",
      "removed from non_passing 218\n",
      "removed from non_passing 111\n",
      "removed from non_passing 531\n",
      "removed from non_passing 73\n",
      "removed from non_passing 405\n",
      "removed from non_passing 285\n",
      "removed from non_passing 527\n",
      "removed from non_passing 122\n",
      "removed from non_passing 315\n",
      "removed from non_passing 366\n",
      "removed from non_passing 118\n",
      "removed from non_passing 519\n",
      "removed from non_passing 208\n",
      "removed from non_passing 263\n",
      "removed from non_passing 268\n",
      "removed from non_passing 538\n",
      "removed from non_passing 62\n",
      "removed from non_passing 233\n",
      "removed from non_passing 625\n",
      "removed from non_passing 386\n",
      "removed from non_passing 27\n",
      "removed from non_passing 382\n",
      "removed from non_passing 228\n",
      "removed from non_passing 237\n",
      "removed from non_passing 252\n",
      "removed from non_passing 284\n",
      "removed from non_passing 219\n",
      "removed from non_passing 176\n",
      "removed from non_passing 475\n",
      "removed from non_passing 461\n",
      "removed from non_passing 279\n",
      "removed from non_passing 572\n",
      "removed from non_passing 462\n",
      "removed from non_passing 455\n",
      "removed from non_passing 627\n",
      "removed from non_passing 374\n",
      "removed from non_passing 442\n",
      "removed from non_passing 432\n",
      "removed from non_passing 98\n",
      "removed from non_passing 385\n",
      "removed from non_passing 512\n",
      "removed from non_passing 496\n",
      "removed from non_passing 41\n",
      "removed from non_passing 406\n",
      "removed from non_passing 174\n",
      "995 647 344\n",
      "[u'1200'] [u'344'] [u'0']\n",
      "1 [{u'lessons_completed': 0, u'num_courses_visited': 0, u'total_minutes_visited': 0.0, u'projects_completed': 0, 'account_key': u'256', u'utc_date': datetime.datetime(2015, 4, 1, 0, 0)}, {u'lessons_completed': 0, u'num_courses_visited': 0, u'total_minutes_visited': 0.0, u'projects_completed': 0, 'account_key': u'256', u'utc_date': datetime.datetime(2015, 4, 2, 0, 0)}, {u'lessons_completed': 0, u'num_courses_visited': 0, u'total_minutes_visited': 0.0, u'projects_completed': 0, 'account_key': u'256', u'utc_date': datetime.datetime(2015, 4, 3, 0, 0)}, {u'lessons_completed': 0, u'num_courses_visited': 0, u'total_minutes_visited': 0.0, u'projects_completed': 0, 'account_key': u'256', u'utc_date': datetime.datetime(2015, 4, 4, 0, 0)}, {u'lessons_completed': 0, u'num_courses_visited': 0, u'total_minutes_visited': 0.0, u'projects_completed': 0, 'account_key': u'256', u'utc_date': datetime.datetime(2015, 4, 5, 0, 0)}, {u'lessons_completed': 0, u'num_courses_visited': 0, u'total_minutes_visited': 0.0, u'projects_completed': 0, 'account_key': u'256', u'utc_date': datetime.datetime(2015, 4, 6, 0, 0)}, {u'lessons_completed': 0, u'num_courses_visited': 0, u'total_minutes_visited': 0.0, u'projects_completed': 0, 'account_key': u'256', u'utc_date': datetime.datetime(2015, 4, 7, 0, 0)}]\n",
      "2 [{u'lessons_completed': 0, u'num_courses_visited': 0, u'total_minutes_visited': 0.0, u'projects_completed': 0, 'account_key': u'256', u'utc_date': datetime.datetime(2015, 4, 1, 0, 0)}, {u'lessons_completed': 0, u'num_courses_visited': 0, u'total_minutes_visited': 0.0, u'projects_completed': 0, 'account_key': u'256', u'utc_date': datetime.datetime(2015, 4, 2, 0, 0)}, {u'lessons_completed': 0, u'num_courses_visited': 0, u'total_minutes_visited': 0.0, u'projects_completed': 0, 'account_key': u'256', u'utc_date': datetime.datetime(2015, 4, 3, 0, 0)}, {u'lessons_completed': 0, u'num_courses_visited': 0, u'total_minutes_visited': 0.0, u'projects_completed': 0, 'account_key': u'256', u'utc_date': datetime.datetime(2015, 4, 4, 0, 0)}, {u'lessons_completed': 0, u'num_courses_visited': 0, u'total_minutes_visited': 0.0, u'projects_completed': 0, 'account_key': u'256', u'utc_date': datetime.datetime(2015, 4, 5, 0, 0)}, {u'lessons_completed': 0, u'num_courses_visited': 0, u'total_minutes_visited': 0.0, u'projects_completed': 0, 'account_key': u'256', u'utc_date': datetime.datetime(2015, 4, 6, 0, 0)}, {u'lessons_completed': 0, u'num_courses_visited': 0, u'total_minutes_visited': 0.0, u'projects_completed': 0, 'account_key': u'256', u'utc_date': datetime.datetime(2015, 4, 7, 0, 0)}]\n",
      "found {u'lesson_key': u'3176718735', u'processing_state': u'EVALUATED', u'account_key': u'256', u'assigned_rating': u'UNGRADED', u'completion_date': datetime.datetime(2015, 1, 16, 0, 0), u'creation_date': datetime.datetime(2015, 1, 14, 0, 0)}\n",
      "found {u'lesson_key': u'3176718735', u'processing_state': u'EVALUATED', u'account_key': u'256', u'assigned_rating': u'INCOMPLETE', u'completion_date': datetime.datetime(2015, 1, 13, 0, 0), u'creation_date': datetime.datetime(2015, 1, 10, 0, 0)}\n",
      "found {u'lesson_key': u'3176718735', u'processing_state': u'EVALUATED', u'account_key': u'256', u'assigned_rating': u'PASSED', u'completion_date': datetime.datetime(2015, 1, 20, 0, 0), u'creation_date': datetime.datetime(2015, 1, 20, 0, 0)}\n"
     ]
    }
   ],
   "source": [
    "######################################\n",
    "#                 11                 #\n",
    "######################################\n",
    "\n",
    "## Create two lists of engagement data for paid students in the first week.\n",
    "## The first list should contain data for students who eventually pass the\n",
    "## subway project, and the second list should contain data for students\n",
    "## who do not.\n",
    "\n",
    "subway_project_lesson_keys = ['746169184', '3176718735']\n",
    "\n",
    "passing_engagement = {}\n",
    "non_passing_engagement = {}\n",
    "\n",
    "#for account_key, engagement_for_student in engagement_by_account.items():\n",
    "#    non_passing_engagement[account_key] = engagement_for_student\n",
    "    \n",
    "#print engagement_by_account.items()[:1]\n",
    "\n",
    "\n",
    "for submission in non_udacity_submissions:        \n",
    "    if submission['account_key'] in engagement_by_account and \\\n",
    "        submission['lesson_key'] in subway_project_lesson_keys and \\\n",
    "        submission['processing_state'] == 'EVALUATED':\n",
    "            if submission['assigned_rating'] in ['PASSED', 'DISTINCTION']:\n",
    "                passing_engagement[submission['account_key']] = engagement_by_account[submission['account_key']]\n",
    "                if submission['account_key'] in non_passing_engagement:\n",
    "                    non_passing_engagement.pop(submission['account_key'])\n",
    "                    #print 'removed from non_passing', submission['account_key']\n",
    "                #print 'passing', submission['account_key']\n",
    "            else:\n",
    "                non_passing_engagement[submission['account_key']] = engagement_by_account[submission['account_key']]\n",
    "                #print 'non passing', submission['account_key']\n",
    "\n",
    "print len(engagement_by_account), len(passing_engagement), len(non_passing_engagement)\n",
    "print engagement_by_account.keys()[:1], passing_engagement.keys()[:1], non_passing_engagement.keys()[:1]\n",
    "\n",
    "key = '256'\n",
    "print '1', engagement_by_account[key]\n",
    "print '2', passing_engagement[key]\n",
    "#print '3', non_passing_engagement[key]\n",
    "\n",
    "for submission in non_udacity_submissions:\n",
    "    #print submission\n",
    "    if submission['account_key'] == key:\n",
    "        print 'found', submission\n",
    "\n",
    "\n",
    "#1200\n",
    "#1175\n",
    "#1269\n",
    "#1144\n",
    "#1257\n",
    "\n",
    "#for account_key in engagement_by_account:\n",
    "#    if account_key not in passing_engagement:\n",
    "#        if account_key not in non_passing_engagement:\n",
    "#            print account_key"
   ]
  },
  {
   "cell_type": "markdown",
   "metadata": {},
   "source": [
    "## Comparing the Two Student Groups"
   ]
  },
  {
   "cell_type": "code",
   "execution_count": 23,
   "metadata": {},
   "outputs": [],
   "source": [
    "######################################\n",
    "#                 12                 #\n",
    "######################################\n",
    "\n",
    "## Compute some metrics you're interested in and see how they differ for\n",
    "## students who pass the subway project vs. students who don't. A good\n",
    "## starting point would be the metrics we looked at earlier (minutes spent\n",
    "## in the classroom, lessons completed, and days visited)."
   ]
  },
  {
   "cell_type": "markdown",
   "metadata": {},
   "source": [
    "## Making Histograms"
   ]
  },
  {
   "cell_type": "code",
   "execution_count": 24,
   "metadata": {},
   "outputs": [],
   "source": [
    "######################################\n",
    "#                 13                 #\n",
    "######################################\n",
    "\n",
    "## Make histograms of the three metrics we looked at earlier for both\n",
    "## students who passed the subway project and students who didn't. You\n",
    "## might also want to make histograms of any other metrics you examined."
   ]
  },
  {
   "cell_type": "markdown",
   "metadata": {},
   "source": [
    "## Improving Plots and Sharing Findings"
   ]
  },
  {
   "cell_type": "code",
   "execution_count": 25,
   "metadata": {},
   "outputs": [],
   "source": [
    "######################################\n",
    "#                 14                 #\n",
    "######################################\n",
    "\n",
    "## Make a more polished version of at least one of your visualizations\n",
    "## from earlier. Try importing the seaborn library to make the visualization\n",
    "## look better, adding axis labels and a title, and changing one or more\n",
    "## arguments to the hist() function."
   ]
  },
  {
   "cell_type": "code",
   "execution_count": null,
   "metadata": {},
   "outputs": [],
   "source": []
  },
  {
   "cell_type": "code",
   "execution_count": null,
   "metadata": {},
   "outputs": [],
   "source": []
  }
 ],
 "metadata": {
  "kernelspec": {
   "display_name": "Python [default]",
   "language": "python",
   "name": "python2"
  },
  "language_info": {
   "codemirror_mode": {
    "name": "ipython",
    "version": 2
   },
   "file_extension": ".py",
   "mimetype": "text/x-python",
   "name": "python",
   "nbconvert_exporter": "python",
   "pygments_lexer": "ipython2",
   "version": "2.7.14"
  }
 },
 "nbformat": 4,
 "nbformat_minor": 1
}
